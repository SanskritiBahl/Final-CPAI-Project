{
 "cells": [
  {
   "cell_type": "code",
   "execution_count": 16,
   "id": "b28dd6d8-3f5c-4429-9f11-7ea9967fd780",
   "metadata": {},
   "outputs": [
    {
     "name": "stderr",
     "output_type": "stream",
     "text": [
      "huggingface/tokenizers: The current process just got forked, after parallelism has already been used. Disabling parallelism to avoid deadlocks...\n",
      "To disable this warning, you can either:\n",
      "\t- Avoid using `tokenizers` before the fork if possible\n",
      "\t- Explicitly set the environment variable TOKENIZERS_PARALLELISM=(true | false)\n",
      "huggingface/tokenizers: The current process just got forked, after parallelism has already been used. Disabling parallelism to avoid deadlocks...\n",
      "To disable this warning, you can either:\n",
      "\t- Avoid using `tokenizers` before the fork if possible\n",
      "\t- Explicitly set the environment variable TOKENIZERS_PARALLELISM=(true | false)\n",
      "huggingface/tokenizers: The current process just got forked, after parallelism has already been used. Disabling parallelism to avoid deadlocks...\n",
      "To disable this warning, you can either:\n",
      "\t- Avoid using `tokenizers` before the fork if possible\n",
      "\t- Explicitly set the environment variable TOKENIZERS_PARALLELISM=(true | false)\n",
      "huggingface/tokenizers: The current process just got forked, after parallelism has already been used. Disabling parallelism to avoid deadlocks...\n",
      "To disable this warning, you can either:\n",
      "\t- Avoid using `tokenizers` before the fork if possible\n",
      "\t- Explicitly set the environment variable TOKENIZERS_PARALLELISM=(true | false)\n"
     ]
    },
    {
     "name": "stdout",
     "output_type": "stream",
     "text": [
      "ERROR: Pipe to stdout was broken\n",
      "Exception ignored in: <_io.TextIOWrapper name='<stdout>' mode='w' encoding='utf-8'>\n",
      "BrokenPipeError: [Errno 32] Broken pipe\n"
     ]
    },
    {
     "name": "stderr",
     "output_type": "stream",
     "text": [
      "huggingface/tokenizers: The current process just got forked, after parallelism has already been used. Disabling parallelism to avoid deadlocks...\n",
      "To disable this warning, you can either:\n",
      "\t- Avoid using `tokenizers` before the fork if possible\n",
      "\t- Explicitly set the environment variable TOKENIZERS_PARALLELISM=(true | false)\n"
     ]
    }
   ],
   "source": [
    "!pip install transformers datasets torch scikit-learn pandas -q\n",
    "!pip install pandas -q\n",
    "!pip install --upgrade transformers torch accelerate datasets scikit-learn pandas -q\n",
    "!pip list | grep accelerate -q\n",
    "!pip install accelerate -q"
   ]
  },
  {
   "cell_type": "code",
   "execution_count": 17,
   "id": "31c327a7-33d5-474c-bd27-9539d8b9b854",
   "metadata": {},
   "outputs": [
    {
     "name": "stdout",
     "output_type": "stream",
     "text": [
      "  Student_ID                 Concept  \\\n",
      "0      S1000        Endowment Effect   \n",
      "1      S1001        Endowment Effect   \n",
      "2      S1002          Anchoring Bias   \n",
      "3      S1003  Hyperbolic Discounting   \n",
      "4      S1004  Hyperbolic Discounting   \n",
      "\n",
      "                                    Student_Response Faculty_Grade  \n",
      "0     People fear losses more than they value gains.            B+  \n",
      "1       Choice architecture can influence decisions.             A  \n",
      "2  Past investments affect future decisions irrat...             B  \n",
      "3          Risk perception changes based on framing.            C+  \n",
      "4       Choice architecture can influence decisions.            C+  \n"
     ]
    }
   ],
   "source": [
    "import pandas as pd\n",
    "\n",
    "# Load the dataset\n",
    "df = pd.read_csv(\"behavioral_economics_dataset.csv\")\n",
    "\n",
    "# Check dataset structure\n",
    "print(df.head())"
   ]
  },
  {
   "cell_type": "code",
   "execution_count": 18,
   "id": "6b5e9024-fcbb-4e29-a857-54605f438bb1",
   "metadata": {},
   "outputs": [],
   "source": [
    "# Rename columns if needed (ensure they match expected format)\n",
    "df = df.rename(columns={\"Student_Response\": \"text\", \"Faculty_Grade\": \"label\"})\n",
    "\n",
    "# Check for missing values\n",
    "df = df.dropna()\n"
   ]
  },
  {
   "cell_type": "code",
   "execution_count": 19,
   "id": "7c554e09-efc0-4df4-af10-a2b59ca2282a",
   "metadata": {},
   "outputs": [
    {
     "name": "stdout",
     "output_type": "stream",
     "text": [
      "  Student_ID                 Concept  \\\n",
      "0      S1000        Endowment Effect   \n",
      "1      S1001        Endowment Effect   \n",
      "2      S1002          Anchoring Bias   \n",
      "3      S1003  Hyperbolic Discounting   \n",
      "4      S1004  Hyperbolic Discounting   \n",
      "\n",
      "                                                text  label  \n",
      "0     People fear losses more than they value gains.      7  \n",
      "1       Choice architecture can influence decisions.      9  \n",
      "2  Past investments affect future decisions irrat...      6  \n",
      "3          Risk perception changes based on framing.      4  \n",
      "4       Choice architecture can influence decisions.      4  \n"
     ]
    }
   ],
   "source": [
    "# Convert Grades to Numeric Labels for Classification\n",
    "grade_mapping = {'A+': 10, 'A': 9, 'A-': 8, 'B+': 7, 'B': 6, 'B-': 5, 'C+': 4, 'C': 3, 'C-': 2, 'D': 1, 'F': 0}\n",
    "df['label'] = df['label'].map(grade_mapping)\n",
    "\n",
    "print(df.head()) "
   ]
  },
  {
   "cell_type": "code",
   "execution_count": 20,
   "id": "51791a3f-4624-4077-84a4-c050bce90051",
   "metadata": {},
   "outputs": [],
   "source": [
    "from transformers import AutoTokenizer\n",
    "\n",
    "# Choose a Pretrained Model (e.g., DistilBERT)\n",
    "model_name = \"distilbert-base-uncased\"\n",
    "tokenizer = AutoTokenizer.from_pretrained(model_name)\n"
   ]
  },
  {
   "cell_type": "code",
   "execution_count": 21,
   "id": "505bde6b-d98e-4126-8edf-61879761a708",
   "metadata": {},
   "outputs": [],
   "source": [
    "# Tokenizing Function\n",
    "def tokenize_function(examples):\n",
    "    return tokenizer(examples[\"text\"], padding=\"max_length\", truncation=True)\n"
   ]
  },
  {
   "cell_type": "code",
   "execution_count": 22,
   "id": "ae951fc5-0562-4838-a340-36797e327027",
   "metadata": {},
   "outputs": [],
   "source": [
    "from datasets import Dataset\n",
    "\n",
    "# Convert DataFrame to Hugging Face Dataset\n",
    "dataset = Dataset.from_pandas(df)"
   ]
  },
  {
   "cell_type": "code",
   "execution_count": 23,
   "id": "661a4b05-b45a-4fee-a77d-484e1930bfe3",
   "metadata": {},
   "outputs": [
    {
     "name": "stderr",
     "output_type": "stream",
     "text": [
      "Map: 100%|███████████████████████████| 100/100 [00:00<00:00, 9970.06 examples/s]\n"
     ]
    }
   ],
   "source": [
    "# Tokenize Data\n",
    "tokenized_datasets = dataset.map(tokenize_function, batched=True)\n"
   ]
  },
  {
   "cell_type": "code",
   "execution_count": 24,
   "id": "84fdf43e-1d4d-4750-9830-5e9043a09724",
   "metadata": {},
   "outputs": [],
   "source": [
    "# Split into Train-Test\n",
    "train_test_split = tokenized_datasets.train_test_split(test_size=0.2)\n",
    "train_dataset = train_test_split[\"train\"]\n",
    "test_dataset = train_test_split[\"test\"]"
   ]
  },
  {
   "cell_type": "code",
   "execution_count": 25,
   "id": "6aa30840-16ae-4d46-bd1f-e063da5b934e",
   "metadata": {},
   "outputs": [],
   "source": [
    "from transformers import AutoModelForSequenceClassification, TrainingArguments, Trainer\n",
    "import torch\n"
   ]
  },
  {
   "cell_type": "code",
   "execution_count": 26,
   "id": "ed59cbc4-bfff-4565-b75d-675b93abb6f8",
   "metadata": {},
   "outputs": [
    {
     "name": "stderr",
     "output_type": "stream",
     "text": [
      "Some weights of DistilBertForSequenceClassification were not initialized from the model checkpoint at distilbert-base-uncased and are newly initialized: ['classifier.bias', 'classifier.weight', 'pre_classifier.bias', 'pre_classifier.weight']\n",
      "You should probably TRAIN this model on a down-stream task to be able to use it for predictions and inference.\n"
     ]
    }
   ],
   "source": [
    "# Load Pretrained Model for Classification\n",
    "num_labels = len(grade_mapping)  # Number of grading categories\n",
    "model = AutoModelForSequenceClassification.from_pretrained(model_name, num_labels=num_labels)\n"
   ]
  },
  {
   "cell_type": "code",
   "execution_count": 27,
   "id": "1b3a54bf-fc69-4278-b3fb-10a0a85eea26",
   "metadata": {},
   "outputs": [],
   "source": [
    "import torch\n",
    "torch.cuda.empty_cache()"
   ]
  },
  {
   "cell_type": "code",
   "execution_count": 30,
   "id": "164e8cf0-3187-4711-8f08-96cce0a8bc9d",
   "metadata": {},
   "outputs": [
    {
     "name": "stdout",
     "output_type": "stream",
     "text": [
      "True\n"
     ]
    }
   ],
   "source": [
    "import torch\n",
    "print(torch.cuda.is_available())  # Should return True if CUDA is available"
   ]
  },
  {
   "cell_type": "code",
   "execution_count": 31,
   "id": "7ace9260-9f3a-4316-8cfb-c58cd91290f4",
   "metadata": {},
   "outputs": [
    {
     "name": "stderr",
     "output_type": "stream",
     "text": [
      "/home/ashok/langchain/lib/python3.10/site-packages/transformers/training_args.py:1611: FutureWarning: `evaluation_strategy` is deprecated and will be removed in version 4.46 of 🤗 Transformers. Use `eval_strategy` instead\n",
      "  warnings.warn(\n",
      "/home/ashok/langchain/lib/python3.10/site-packages/transformers/training_args.py:1626: FutureWarning: using `no_cuda` is deprecated and will be removed in version 5.0 of 🤗 Transformers. Use `use_cpu` instead\n",
      "  warnings.warn(\n",
      "/tmp/ipykernel_6366/1087228684.py:15: FutureWarning: `tokenizer` is deprecated and will be removed in version 5.0.0 for `Trainer.__init__`. Use `processing_class` instead.\n",
      "  trainer = Trainer(\n"
     ]
    }
   ],
   "source": [
    "from transformers import Trainer, TrainingArguments\n",
    "\n",
    "training_args = TrainingArguments(\n",
    "    output_dir=\"./results\",\n",
    "    evaluation_strategy=\"epoch\",\n",
    "    save_strategy=\"epoch\",\n",
    "    learning_rate=2e-5,\n",
    "    per_device_train_batch_size=8,\n",
    "    per_device_eval_batch_size=8,\n",
    "    num_train_epochs=3,\n",
    "    weight_decay=0.01,\n",
    "    no_cuda=True  # Forces use of CPU even if a GPU is available\n",
    ")\n",
    "\n",
    "trainer = Trainer(\n",
    "    model=model,\n",
    "    args=training_args,\n",
    "    train_dataset=train_dataset,\n",
    "    eval_dataset=test_dataset,\n",
    "    tokenizer=tokenizer,\n",
    ")"
   ]
  },
  {
   "cell_type": "code",
   "execution_count": 32,
   "id": "55db642a-0599-47ae-9e16-c8f86d0e2c59",
   "metadata": {},
   "outputs": [
    {
     "data": {
      "text/html": [
       "\n",
       "    <div>\n",
       "      \n",
       "      <progress value='30' max='30' style='width:300px; height:20px; vertical-align: middle;'></progress>\n",
       "      [30/30 01:07, Epoch 3/3]\n",
       "    </div>\n",
       "    <table border=\"1\" class=\"dataframe\">\n",
       "  <thead>\n",
       " <tr style=\"text-align: left;\">\n",
       "      <th>Epoch</th>\n",
       "      <th>Training Loss</th>\n",
       "      <th>Validation Loss</th>\n",
       "    </tr>\n",
       "  </thead>\n",
       "  <tbody>\n",
       "    <tr>\n",
       "      <td>1</td>\n",
       "      <td>No log</td>\n",
       "      <td>2.400387</td>\n",
       "    </tr>\n",
       "    <tr>\n",
       "      <td>2</td>\n",
       "      <td>No log</td>\n",
       "      <td>2.398504</td>\n",
       "    </tr>\n",
       "    <tr>\n",
       "      <td>3</td>\n",
       "      <td>No log</td>\n",
       "      <td>2.400973</td>\n",
       "    </tr>\n",
       "  </tbody>\n",
       "</table><p>"
      ],
      "text/plain": [
       "<IPython.core.display.HTML object>"
      ]
     },
     "metadata": {},
     "output_type": "display_data"
    },
    {
     "data": {
      "text/plain": [
       "TrainOutput(global_step=30, training_loss=2.3695994059244794, metrics={'train_runtime': 69.8154, 'train_samples_per_second': 3.438, 'train_steps_per_second': 0.43, 'total_flos': 31797278392320.0, 'train_loss': 2.3695994059244794, 'epoch': 3.0})"
      ]
     },
     "execution_count": 32,
     "metadata": {},
     "output_type": "execute_result"
    }
   ],
   "source": [
    "# Train Model\n",
    "trainer.train()"
   ]
  },
  {
   "cell_type": "code",
   "execution_count": 33,
   "id": "63b3dab7-bd93-423e-8f1c-54ad9eac9c09",
   "metadata": {},
   "outputs": [
    {
     "name": "stderr",
     "output_type": "stream",
     "text": [
      "huggingface/tokenizers: The current process just got forked, after parallelism has already been used. Disabling parallelism to avoid deadlocks...\n",
      "To disable this warning, you can either:\n",
      "\t- Avoid using `tokenizers` before the fork if possible\n",
      "\t- Explicitly set the environment variable TOKENIZERS_PARALLELISM=(true | false)\n"
     ]
    },
    {
     "name": "stdout",
     "output_type": "stream",
     "text": [
      "Requirement already satisfied: numpy in /home/ashok/langchain/lib/python3.10/site-packages (2.2.4)\n"
     ]
    }
   ],
   "source": [
    "!pip install numpy\n",
    "\n",
    "import numpy as np\n",
    "from sklearn.metrics import accuracy_score, classification_report"
   ]
  },
  {
   "cell_type": "code",
   "execution_count": 34,
   "id": "1342c8a8-ba9c-4f4d-bc20-39a9b29143db",
   "metadata": {},
   "outputs": [],
   "source": [
    "# Function to Compute Metrics\n",
    "def compute_metrics(eval_pred):\n",
    "    logits, labels = eval_pred\n",
    "    predictions = np.argmax(logits, axis=-1)\n",
    "    return {\"accuracy\": accuracy_score(labels, predictions)}\n"
   ]
  },
  {
   "cell_type": "code",
   "execution_count": 39,
   "id": "1f432679-0780-47e6-b097-ef4e1810db97",
   "metadata": {},
   "outputs": [
    {
     "data": {
      "text/plain": [
       "('/home/ashok/grading_model/tokenizer_config.json',\n",
       " '/home/ashok/grading_model/special_tokens_map.json',\n",
       " '/home/ashok/grading_model/vocab.txt',\n",
       " '/home/ashok/grading_model/added_tokens.json',\n",
       " '/home/ashok/grading_model/tokenizer.json')"
      ]
     },
     "execution_count": 39,
     "metadata": {},
     "output_type": "execute_result"
    }
   ],
   "source": [
    "# Evaluate Model\n",
    "trainer.evaluate()\n",
    "\n",
    "model.save_pretrained(\"/home/ashok/grading_model\")\n",
    "tokenizer.save_pretrained(\"/home/ashok/grading_model\")\n",
    "\n",
    "model.save_pretrained(\"/home/ashok/grading_model\")\n",
    "tokenizer.save_pretrained(\"/home/ashok/grading_model\")\n"
   ]
  },
  {
   "cell_type": "code",
   "execution_count": 40,
   "id": "ba48ea97-b1ec-487c-b69a-4523c08de787",
   "metadata": {},
   "outputs": [],
   "source": [
    "from transformers import AutoModelForSequenceClassification, AutoTokenizer\n",
    "import torch\n",
    "\n",
    "# Load trained model and tokenizer\n",
    "model_path = \"/home/ashok/grading_model\"  # Use \"your-hf-username/grading_model\" if using Hugging Face Hub\n",
    "tokenizer = AutoTokenizer.from_pretrained(\"/home/ashok/grading_model\")\n",
    "model = AutoModelForSequenceClassification.from_pretrained(\"/home/ashok/grading_model\")\n"
   ]
  },
  {
   "cell_type": "code",
   "execution_count": 41,
   "id": "ae94b3d6-da85-44b8-9dd0-fc6fbad0b362",
   "metadata": {},
   "outputs": [
    {
     "name": "stdout",
     "output_type": "stream",
     "text": [
      "Predicted Grade: C\n"
     ]
    }
   ],
   "source": [
    "from transformers import AutoModelForSequenceClassification, AutoTokenizer\n",
    "import torch\n",
    "\n",
    "# Correct grade_mapping used during training\n",
    "train_grade_mapping = {\n",
    "    'A+': 10, 'A': 9, 'A-': 8, 'B+': 7, 'B': 6, 'B-': 5, \n",
    "    'C+': 4, 'C': 3, 'C-': 2, 'D': 1, 'F': 0\n",
    "}\n",
    "\n",
    "# Modify grade mapping for prediction\n",
    "grade_mapping_for_prediction = {\n",
    "    10: \"A+\", 9: \"A\", 8: \"A-\", 7: \"B+\", 6: \"B\", 5: \"B-\", \n",
    "    4: \"C+\", 3: \"C\", 2: \"C-\", 1: \"D\", 0: \"F\"\n",
    "}\n",
    "\n",
    "# Function to predict grade\n",
    "def predict_grade(student_response):\n",
    "    inputs = tokenizer(student_response, return_tensors=\"pt\", truncation=True, padding=True)\n",
    "    with torch.no_grad():\n",
    "        outputs = model(**inputs)\n",
    "    \n",
    "    predicted_class = torch.argmax(outputs.logits, dim=1).item()\n",
    "    \n",
    "    # Ensure the predicted class is within the valid grade range\n",
    "    if predicted_class in grade_mapping_for_prediction:\n",
    "        return grade_mapping_for_prediction[predicted_class]\n",
    "    else:\n",
    "        # Handle cases where the predicted class is out of bounds (for safety)\n",
    "        return \"Unknown Grade\"\n",
    "\n",
    "# Example: Predicting grade for a student answer\n",
    "student_response = \"The Industrial Revolution was a period of major industrialization...\"\n",
    "predicted_grade = predict_grade(student_response)\n",
    "print(f\"Predicted Grade: {predicted_grade}\")\n"
   ]
  },
  {
   "cell_type": "code",
   "execution_count": null,
   "id": "13a781df-998e-49a0-9fbd-3ae019297bb3",
   "metadata": {},
   "outputs": [],
   "source": []
  }
 ],
 "metadata": {
  "kernelspec": {
   "display_name": "Python 3 (ipykernel)",
   "language": "python",
   "name": "python3"
  },
  "language_info": {
   "codemirror_mode": {
    "name": "ipython",
    "version": 3
   },
   "file_extension": ".py",
   "mimetype": "text/x-python",
   "name": "python",
   "nbconvert_exporter": "python",
   "pygments_lexer": "ipython3",
   "version": "3.10.12"
  }
 },
 "nbformat": 4,
 "nbformat_minor": 5
}
