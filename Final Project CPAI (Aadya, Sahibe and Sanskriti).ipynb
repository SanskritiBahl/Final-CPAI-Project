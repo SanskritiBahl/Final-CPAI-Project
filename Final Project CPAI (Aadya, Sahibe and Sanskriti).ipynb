{
 "cells": [
  {
   "cell_type": "code",
   "execution_count": 1,
   "id": "b28dd6d8-3f5c-4429-9f11-7ea9967fd780",
   "metadata": {},
   "outputs": [
    {
     "name": "stdout",
     "output_type": "stream",
     "text": [
      "Requirement already satisfied: transformers in ./langchain/lib/python3.10/site-packages (4.50.3)\n",
      "Requirement already satisfied: datasets in ./langchain/lib/python3.10/site-packages (3.5.0)\n",
      "Requirement already satisfied: torch in ./langchain/lib/python3.10/site-packages (2.6.0)\n",
      "Requirement already satisfied: scikit-learn in ./langchain/lib/python3.10/site-packages (1.6.1)\n",
      "Requirement already satisfied: pandas in ./langchain/lib/python3.10/site-packages (2.2.3)\n",
      "Requirement already satisfied: pyyaml>=5.1 in ./langchain/lib/python3.10/site-packages (from transformers) (6.0.2)\n",
      "Requirement already satisfied: tqdm>=4.27 in ./langchain/lib/python3.10/site-packages (from transformers) (4.67.1)\n",
      "Requirement already satisfied: regex!=2019.12.17 in ./langchain/lib/python3.10/site-packages (from transformers) (2024.11.6)\n",
      "Requirement already satisfied: packaging>=20.0 in ./langchain/lib/python3.10/site-packages (from transformers) (24.2)\n",
      "Requirement already satisfied: filelock in ./langchain/lib/python3.10/site-packages (from transformers) (3.18.0)\n",
      "Requirement already satisfied: requests in ./langchain/lib/python3.10/site-packages (from transformers) (2.32.3)\n",
      "Requirement already satisfied: huggingface-hub<1.0,>=0.26.0 in ./langchain/lib/python3.10/site-packages (from transformers) (0.29.3)\n",
      "Requirement already satisfied: numpy>=1.17 in ./langchain/lib/python3.10/site-packages (from transformers) (2.2.4)\n",
      "Requirement already satisfied: safetensors>=0.4.3 in ./langchain/lib/python3.10/site-packages (from transformers) (0.5.3)\n",
      "Requirement already satisfied: tokenizers<0.22,>=0.21 in ./langchain/lib/python3.10/site-packages (from transformers) (0.21.1)\n",
      "Requirement already satisfied: dill<0.3.9,>=0.3.0 in ./langchain/lib/python3.10/site-packages (from datasets) (0.3.8)\n",
      "Requirement already satisfied: multiprocess<0.70.17 in ./langchain/lib/python3.10/site-packages (from datasets) (0.70.16)\n",
      "Requirement already satisfied: pyarrow>=15.0.0 in ./langchain/lib/python3.10/site-packages (from datasets) (19.0.1)\n",
      "Requirement already satisfied: xxhash in ./langchain/lib/python3.10/site-packages (from datasets) (3.5.0)\n",
      "Requirement already satisfied: fsspec[http]<=2024.12.0,>=2023.1.0 in ./langchain/lib/python3.10/site-packages (from datasets) (2024.12.0)\n",
      "Requirement already satisfied: aiohttp in ./langchain/lib/python3.10/site-packages (from datasets) (3.11.14)\n",
      "Requirement already satisfied: nvidia-cusparse-cu12==12.3.1.170 in ./langchain/lib/python3.10/site-packages (from torch) (12.3.1.170)\n",
      "Requirement already satisfied: typing-extensions>=4.10.0 in ./langchain/lib/python3.10/site-packages (from torch) (4.12.2)\n",
      "Requirement already satisfied: nvidia-cudnn-cu12==9.1.0.70 in ./langchain/lib/python3.10/site-packages (from torch) (9.1.0.70)\n",
      "Requirement already satisfied: networkx in ./langchain/lib/python3.10/site-packages (from torch) (3.4.2)\n",
      "Requirement already satisfied: nvidia-curand-cu12==10.3.5.147 in ./langchain/lib/python3.10/site-packages (from torch) (10.3.5.147)\n",
      "Requirement already satisfied: nvidia-nvjitlink-cu12==12.4.127 in ./langchain/lib/python3.10/site-packages (from torch) (12.4.127)\n",
      "Requirement already satisfied: triton==3.2.0 in ./langchain/lib/python3.10/site-packages (from torch) (3.2.0)\n",
      "Requirement already satisfied: nvidia-cusparselt-cu12==0.6.2 in ./langchain/lib/python3.10/site-packages (from torch) (0.6.2)\n",
      "Requirement already satisfied: nvidia-cublas-cu12==12.4.5.8 in ./langchain/lib/python3.10/site-packages (from torch) (12.4.5.8)\n",
      "Requirement already satisfied: sympy==1.13.1 in ./langchain/lib/python3.10/site-packages (from torch) (1.13.1)\n",
      "Requirement already satisfied: nvidia-cuda-nvrtc-cu12==12.4.127 in ./langchain/lib/python3.10/site-packages (from torch) (12.4.127)\n",
      "Requirement already satisfied: jinja2 in ./langchain/lib/python3.10/site-packages (from torch) (3.1.6)\n",
      "Requirement already satisfied: nvidia-nccl-cu12==2.21.5 in ./langchain/lib/python3.10/site-packages (from torch) (2.21.5)\n",
      "Requirement already satisfied: nvidia-cusolver-cu12==11.6.1.9 in ./langchain/lib/python3.10/site-packages (from torch) (11.6.1.9)\n",
      "Requirement already satisfied: nvidia-cufft-cu12==11.2.1.3 in ./langchain/lib/python3.10/site-packages (from torch) (11.2.1.3)\n",
      "Requirement already satisfied: nvidia-cuda-runtime-cu12==12.4.127 in ./langchain/lib/python3.10/site-packages (from torch) (12.4.127)\n",
      "Requirement already satisfied: nvidia-nvtx-cu12==12.4.127 in ./langchain/lib/python3.10/site-packages (from torch) (12.4.127)\n",
      "Requirement already satisfied: nvidia-cuda-cupti-cu12==12.4.127 in ./langchain/lib/python3.10/site-packages (from torch) (12.4.127)\n",
      "Requirement already satisfied: mpmath<1.4,>=1.1.0 in ./langchain/lib/python3.10/site-packages (from sympy==1.13.1->torch) (1.3.0)\n",
      "Requirement already satisfied: joblib>=1.2.0 in ./langchain/lib/python3.10/site-packages (from scikit-learn) (1.4.2)\n",
      "Requirement already satisfied: threadpoolctl>=3.1.0 in ./langchain/lib/python3.10/site-packages (from scikit-learn) (3.6.0)\n",
      "Requirement already satisfied: scipy>=1.6.0 in ./langchain/lib/python3.10/site-packages (from scikit-learn) (1.15.2)\n",
      "Requirement already satisfied: pytz>=2020.1 in ./langchain/lib/python3.10/site-packages (from pandas) (2025.1)\n",
      "Requirement already satisfied: python-dateutil>=2.8.2 in ./langchain/lib/python3.10/site-packages (from pandas) (2.9.0.post0)\n",
      "Requirement already satisfied: tzdata>=2022.7 in ./langchain/lib/python3.10/site-packages (from pandas) (2025.1)\n",
      "Requirement already satisfied: propcache>=0.2.0 in ./langchain/lib/python3.10/site-packages (from aiohttp->datasets) (0.3.0)\n",
      "Requirement already satisfied: attrs>=17.3.0 in ./langchain/lib/python3.10/site-packages (from aiohttp->datasets) (25.3.0)\n",
      "Requirement already satisfied: frozenlist>=1.1.1 in ./langchain/lib/python3.10/site-packages (from aiohttp->datasets) (1.5.0)\n",
      "Requirement already satisfied: async-timeout<6.0,>=4.0 in ./langchain/lib/python3.10/site-packages (from aiohttp->datasets) (4.0.3)\n",
      "Requirement already satisfied: multidict<7.0,>=4.5 in ./langchain/lib/python3.10/site-packages (from aiohttp->datasets) (6.1.0)\n",
      "Requirement already satisfied: aiosignal>=1.1.2 in ./langchain/lib/python3.10/site-packages (from aiohttp->datasets) (1.3.2)\n",
      "Requirement already satisfied: aiohappyeyeballs>=2.3.0 in ./langchain/lib/python3.10/site-packages (from aiohttp->datasets) (2.6.1)\n",
      "Requirement already satisfied: yarl<2.0,>=1.17.0 in ./langchain/lib/python3.10/site-packages (from aiohttp->datasets) (1.18.3)\n",
      "Requirement already satisfied: six>=1.5 in ./langchain/lib/python3.10/site-packages (from python-dateutil>=2.8.2->pandas) (1.17.0)\n",
      "Requirement already satisfied: urllib3<3,>=1.21.1 in ./langchain/lib/python3.10/site-packages (from requests->transformers) (2.3.0)\n",
      "Requirement already satisfied: charset-normalizer<4,>=2 in ./langchain/lib/python3.10/site-packages (from requests->transformers) (3.4.1)\n",
      "Requirement already satisfied: idna<4,>=2.5 in ./langchain/lib/python3.10/site-packages (from requests->transformers) (3.10)\n",
      "Requirement already satisfied: certifi>=2017.4.17 in ./langchain/lib/python3.10/site-packages (from requests->transformers) (2025.1.31)\n",
      "Requirement already satisfied: MarkupSafe>=2.0 in ./langchain/lib/python3.10/site-packages (from jinja2->torch) (3.0.2)\n",
      "Requirement already satisfied: pandas in ./langchain/lib/python3.10/site-packages (2.2.3)\n",
      "Requirement already satisfied: pytz>=2020.1 in ./langchain/lib/python3.10/site-packages (from pandas) (2025.1)\n",
      "Requirement already satisfied: numpy>=1.22.4 in ./langchain/lib/python3.10/site-packages (from pandas) (2.2.4)\n",
      "Requirement already satisfied: tzdata>=2022.7 in ./langchain/lib/python3.10/site-packages (from pandas) (2025.1)\n",
      "Requirement already satisfied: python-dateutil>=2.8.2 in ./langchain/lib/python3.10/site-packages (from pandas) (2.9.0.post0)\n",
      "Requirement already satisfied: six>=1.5 in ./langchain/lib/python3.10/site-packages (from python-dateutil>=2.8.2->pandas) (1.17.0)\n",
      "Requirement already satisfied: transformers in ./langchain/lib/python3.10/site-packages (4.50.3)\n",
      "Requirement already satisfied: torch in ./langchain/lib/python3.10/site-packages (2.6.0)\n",
      "Requirement already satisfied: accelerate in ./langchain/lib/python3.10/site-packages (1.6.0)\n",
      "Requirement already satisfied: datasets in ./langchain/lib/python3.10/site-packages (3.5.0)\n",
      "Requirement already satisfied: scikit-learn in ./langchain/lib/python3.10/site-packages (1.6.1)\n",
      "Requirement already satisfied: pandas in ./langchain/lib/python3.10/site-packages (2.2.3)\n",
      "Requirement already satisfied: numpy>=1.17 in ./langchain/lib/python3.10/site-packages (from transformers) (2.2.4)\n",
      "Requirement already satisfied: tokenizers<0.22,>=0.21 in ./langchain/lib/python3.10/site-packages (from transformers) (0.21.1)\n",
      "Requirement already satisfied: safetensors>=0.4.3 in ./langchain/lib/python3.10/site-packages (from transformers) (0.5.3)\n",
      "Requirement already satisfied: packaging>=20.0 in ./langchain/lib/python3.10/site-packages (from transformers) (24.2)\n",
      "Requirement already satisfied: requests in ./langchain/lib/python3.10/site-packages (from transformers) (2.32.3)\n",
      "Requirement already satisfied: tqdm>=4.27 in ./langchain/lib/python3.10/site-packages (from transformers) (4.67.1)\n",
      "Requirement already satisfied: huggingface-hub<1.0,>=0.26.0 in ./langchain/lib/python3.10/site-packages (from transformers) (0.29.3)\n",
      "Requirement already satisfied: regex!=2019.12.17 in ./langchain/lib/python3.10/site-packages (from transformers) (2024.11.6)\n",
      "Requirement already satisfied: pyyaml>=5.1 in ./langchain/lib/python3.10/site-packages (from transformers) (6.0.2)\n",
      "Requirement already satisfied: filelock in ./langchain/lib/python3.10/site-packages (from transformers) (3.18.0)\n",
      "Requirement already satisfied: networkx in ./langchain/lib/python3.10/site-packages (from torch) (3.4.2)\n",
      "Requirement already satisfied: triton==3.2.0 in ./langchain/lib/python3.10/site-packages (from torch) (3.2.0)\n",
      "Requirement already satisfied: nvidia-cudnn-cu12==9.1.0.70 in ./langchain/lib/python3.10/site-packages (from torch) (9.1.0.70)\n",
      "Requirement already satisfied: nvidia-cuda-runtime-cu12==12.4.127 in ./langchain/lib/python3.10/site-packages (from torch) (12.4.127)\n",
      "Requirement already satisfied: nvidia-cublas-cu12==12.4.5.8 in ./langchain/lib/python3.10/site-packages (from torch) (12.4.5.8)\n",
      "Requirement already satisfied: nvidia-cuda-nvrtc-cu12==12.4.127 in ./langchain/lib/python3.10/site-packages (from torch) (12.4.127)\n",
      "Requirement already satisfied: nvidia-nccl-cu12==2.21.5 in ./langchain/lib/python3.10/site-packages (from torch) (2.21.5)\n",
      "Requirement already satisfied: nvidia-curand-cu12==10.3.5.147 in ./langchain/lib/python3.10/site-packages (from torch) (10.3.5.147)\n",
      "Requirement already satisfied: sympy==1.13.1 in ./langchain/lib/python3.10/site-packages (from torch) (1.13.1)\n",
      "Requirement already satisfied: typing-extensions>=4.10.0 in ./langchain/lib/python3.10/site-packages (from torch) (4.12.2)\n",
      "Requirement already satisfied: nvidia-cusparse-cu12==12.3.1.170 in ./langchain/lib/python3.10/site-packages (from torch) (12.3.1.170)\n",
      "Requirement already satisfied: jinja2 in ./langchain/lib/python3.10/site-packages (from torch) (3.1.6)\n",
      "Requirement already satisfied: nvidia-nvjitlink-cu12==12.4.127 in ./langchain/lib/python3.10/site-packages (from torch) (12.4.127)\n",
      "Requirement already satisfied: nvidia-cufft-cu12==11.2.1.3 in ./langchain/lib/python3.10/site-packages (from torch) (11.2.1.3)\n",
      "Requirement already satisfied: fsspec in ./langchain/lib/python3.10/site-packages (from torch) (2024.12.0)\n",
      "Requirement already satisfied: nvidia-cusparselt-cu12==0.6.2 in ./langchain/lib/python3.10/site-packages (from torch) (0.6.2)\n",
      "Requirement already satisfied: nvidia-cuda-cupti-cu12==12.4.127 in ./langchain/lib/python3.10/site-packages (from torch) (12.4.127)\n",
      "Requirement already satisfied: nvidia-cusolver-cu12==11.6.1.9 in ./langchain/lib/python3.10/site-packages (from torch) (11.6.1.9)\n",
      "Requirement already satisfied: nvidia-nvtx-cu12==12.4.127 in ./langchain/lib/python3.10/site-packages (from torch) (12.4.127)\n",
      "Requirement already satisfied: mpmath<1.4,>=1.1.0 in ./langchain/lib/python3.10/site-packages (from sympy==1.13.1->torch) (1.3.0)\n",
      "Requirement already satisfied: psutil in ./langchain/lib/python3.10/site-packages (from accelerate) (7.0.0)\n",
      "Requirement already satisfied: multiprocess<0.70.17 in ./langchain/lib/python3.10/site-packages (from datasets) (0.70.16)\n",
      "Requirement already satisfied: dill<0.3.9,>=0.3.0 in ./langchain/lib/python3.10/site-packages (from datasets) (0.3.8)\n",
      "Requirement already satisfied: xxhash in ./langchain/lib/python3.10/site-packages (from datasets) (3.5.0)\n",
      "Requirement already satisfied: pyarrow>=15.0.0 in ./langchain/lib/python3.10/site-packages (from datasets) (19.0.1)\n",
      "Requirement already satisfied: aiohttp in ./langchain/lib/python3.10/site-packages (from datasets) (3.11.14)\n",
      "Requirement already satisfied: joblib>=1.2.0 in ./langchain/lib/python3.10/site-packages (from scikit-learn) (1.4.2)\n",
      "Requirement already satisfied: scipy>=1.6.0 in ./langchain/lib/python3.10/site-packages (from scikit-learn) (1.15.2)\n",
      "Requirement already satisfied: threadpoolctl>=3.1.0 in ./langchain/lib/python3.10/site-packages (from scikit-learn) (3.6.0)\n",
      "Requirement already satisfied: python-dateutil>=2.8.2 in ./langchain/lib/python3.10/site-packages (from pandas) (2.9.0.post0)\n",
      "Requirement already satisfied: tzdata>=2022.7 in ./langchain/lib/python3.10/site-packages (from pandas) (2025.1)\n",
      "Requirement already satisfied: pytz>=2020.1 in ./langchain/lib/python3.10/site-packages (from pandas) (2025.1)\n",
      "Requirement already satisfied: async-timeout<6.0,>=4.0 in ./langchain/lib/python3.10/site-packages (from aiohttp->datasets) (4.0.3)\n",
      "Requirement already satisfied: aiohappyeyeballs>=2.3.0 in ./langchain/lib/python3.10/site-packages (from aiohttp->datasets) (2.6.1)\n",
      "Requirement already satisfied: frozenlist>=1.1.1 in ./langchain/lib/python3.10/site-packages (from aiohttp->datasets) (1.5.0)\n",
      "Requirement already satisfied: aiosignal>=1.1.2 in ./langchain/lib/python3.10/site-packages (from aiohttp->datasets) (1.3.2)\n",
      "Requirement already satisfied: attrs>=17.3.0 in ./langchain/lib/python3.10/site-packages (from aiohttp->datasets) (25.3.0)\n",
      "Requirement already satisfied: yarl<2.0,>=1.17.0 in ./langchain/lib/python3.10/site-packages (from aiohttp->datasets) (1.18.3)\n",
      "Requirement already satisfied: multidict<7.0,>=4.5 in ./langchain/lib/python3.10/site-packages (from aiohttp->datasets) (6.1.0)\n",
      "Requirement already satisfied: propcache>=0.2.0 in ./langchain/lib/python3.10/site-packages (from aiohttp->datasets) (0.3.0)\n",
      "Requirement already satisfied: six>=1.5 in ./langchain/lib/python3.10/site-packages (from python-dateutil>=2.8.2->pandas) (1.17.0)\n",
      "Requirement already satisfied: idna<4,>=2.5 in ./langchain/lib/python3.10/site-packages (from requests->transformers) (3.10)\n",
      "Requirement already satisfied: urllib3<3,>=1.21.1 in ./langchain/lib/python3.10/site-packages (from requests->transformers) (2.3.0)\n",
      "Requirement already satisfied: certifi>=2017.4.17 in ./langchain/lib/python3.10/site-packages (from requests->transformers) (2025.1.31)\n",
      "Requirement already satisfied: charset-normalizer<4,>=2 in ./langchain/lib/python3.10/site-packages (from requests->transformers) (3.4.1)\n",
      "Requirement already satisfied: MarkupSafe>=2.0 in ./langchain/lib/python3.10/site-packages (from jinja2->torch) (3.0.2)\n",
      "accelerate                               1.6.0\n",
      "Requirement already satisfied: accelerate in ./langchain/lib/python3.10/site-packages (1.6.0)\n",
      "Requirement already satisfied: numpy<3.0.0,>=1.17 in ./langchain/lib/python3.10/site-packages (from accelerate) (2.2.4)\n",
      "Requirement already satisfied: packaging>=20.0 in ./langchain/lib/python3.10/site-packages (from accelerate) (24.2)\n",
      "Requirement already satisfied: torch>=2.0.0 in ./langchain/lib/python3.10/site-packages (from accelerate) (2.6.0)\n",
      "Requirement already satisfied: psutil in ./langchain/lib/python3.10/site-packages (from accelerate) (7.0.0)\n",
      "Requirement already satisfied: huggingface-hub>=0.21.0 in ./langchain/lib/python3.10/site-packages (from accelerate) (0.29.3)\n",
      "Requirement already satisfied: safetensors>=0.4.3 in ./langchain/lib/python3.10/site-packages (from accelerate) (0.5.3)\n",
      "Requirement already satisfied: pyyaml in ./langchain/lib/python3.10/site-packages (from accelerate) (6.0.2)\n",
      "Requirement already satisfied: requests in ./langchain/lib/python3.10/site-packages (from huggingface-hub>=0.21.0->accelerate) (2.32.3)\n",
      "Requirement already satisfied: typing-extensions>=3.7.4.3 in ./langchain/lib/python3.10/site-packages (from huggingface-hub>=0.21.0->accelerate) (4.12.2)\n",
      "Requirement already satisfied: filelock in ./langchain/lib/python3.10/site-packages (from huggingface-hub>=0.21.0->accelerate) (3.18.0)\n",
      "Requirement already satisfied: fsspec>=2023.5.0 in ./langchain/lib/python3.10/site-packages (from huggingface-hub>=0.21.0->accelerate) (2024.12.0)\n",
      "Requirement already satisfied: tqdm>=4.42.1 in ./langchain/lib/python3.10/site-packages (from huggingface-hub>=0.21.0->accelerate) (4.67.1)\n",
      "Requirement already satisfied: nvidia-nvtx-cu12==12.4.127 in ./langchain/lib/python3.10/site-packages (from torch>=2.0.0->accelerate) (12.4.127)\n",
      "Requirement already satisfied: networkx in ./langchain/lib/python3.10/site-packages (from torch>=2.0.0->accelerate) (3.4.2)\n",
      "Requirement already satisfied: jinja2 in ./langchain/lib/python3.10/site-packages (from torch>=2.0.0->accelerate) (3.1.6)\n",
      "Requirement already satisfied: nvidia-cusparse-cu12==12.3.1.170 in ./langchain/lib/python3.10/site-packages (from torch>=2.0.0->accelerate) (12.3.1.170)\n",
      "Requirement already satisfied: nvidia-cufft-cu12==11.2.1.3 in ./langchain/lib/python3.10/site-packages (from torch>=2.0.0->accelerate) (11.2.1.3)\n",
      "Requirement already satisfied: nvidia-cuda-runtime-cu12==12.4.127 in ./langchain/lib/python3.10/site-packages (from torch>=2.0.0->accelerate) (12.4.127)\n",
      "Requirement already satisfied: nvidia-cuda-nvrtc-cu12==12.4.127 in ./langchain/lib/python3.10/site-packages (from torch>=2.0.0->accelerate) (12.4.127)\n",
      "Requirement already satisfied: nvidia-nvjitlink-cu12==12.4.127 in ./langchain/lib/python3.10/site-packages (from torch>=2.0.0->accelerate) (12.4.127)\n",
      "Requirement already satisfied: nvidia-cusolver-cu12==11.6.1.9 in ./langchain/lib/python3.10/site-packages (from torch>=2.0.0->accelerate) (11.6.1.9)\n",
      "Requirement already satisfied: nvidia-cudnn-cu12==9.1.0.70 in ./langchain/lib/python3.10/site-packages (from torch>=2.0.0->accelerate) (9.1.0.70)\n",
      "Requirement already satisfied: nvidia-nccl-cu12==2.21.5 in ./langchain/lib/python3.10/site-packages (from torch>=2.0.0->accelerate) (2.21.5)\n",
      "Requirement already satisfied: sympy==1.13.1 in ./langchain/lib/python3.10/site-packages (from torch>=2.0.0->accelerate) (1.13.1)\n",
      "Requirement already satisfied: triton==3.2.0 in ./langchain/lib/python3.10/site-packages (from torch>=2.0.0->accelerate) (3.2.0)\n",
      "Requirement already satisfied: nvidia-cusparselt-cu12==0.6.2 in ./langchain/lib/python3.10/site-packages (from torch>=2.0.0->accelerate) (0.6.2)\n",
      "Requirement already satisfied: nvidia-cublas-cu12==12.4.5.8 in ./langchain/lib/python3.10/site-packages (from torch>=2.0.0->accelerate) (12.4.5.8)\n",
      "Requirement already satisfied: nvidia-curand-cu12==10.3.5.147 in ./langchain/lib/python3.10/site-packages (from torch>=2.0.0->accelerate) (10.3.5.147)\n",
      "Requirement already satisfied: nvidia-cuda-cupti-cu12==12.4.127 in ./langchain/lib/python3.10/site-packages (from torch>=2.0.0->accelerate) (12.4.127)\n",
      "Requirement already satisfied: mpmath<1.4,>=1.1.0 in ./langchain/lib/python3.10/site-packages (from sympy==1.13.1->torch>=2.0.0->accelerate) (1.3.0)\n",
      "Requirement already satisfied: MarkupSafe>=2.0 in ./langchain/lib/python3.10/site-packages (from jinja2->torch>=2.0.0->accelerate) (3.0.2)\n",
      "Requirement already satisfied: idna<4,>=2.5 in ./langchain/lib/python3.10/site-packages (from requests->huggingface-hub>=0.21.0->accelerate) (3.10)\n",
      "Requirement already satisfied: urllib3<3,>=1.21.1 in ./langchain/lib/python3.10/site-packages (from requests->huggingface-hub>=0.21.0->accelerate) (2.3.0)\n",
      "Requirement already satisfied: certifi>=2017.4.17 in ./langchain/lib/python3.10/site-packages (from requests->huggingface-hub>=0.21.0->accelerate) (2025.1.31)\n",
      "Requirement already satisfied: charset-normalizer<4,>=2 in ./langchain/lib/python3.10/site-packages (from requests->huggingface-hub>=0.21.0->accelerate) (3.4.1)\n"
     ]
    }
   ],
   "source": [
    "!pip install transformers datasets torch scikit-learn pandas\n",
    "!pip install pandas\n",
    "!pip install --upgrade transformers torch accelerate datasets scikit-learn pandas\n",
    "!pip list | grep accelerate\n",
    "!pip install accelerate"
   ]
  },
  {
   "cell_type": "code",
   "execution_count": 1,
   "id": "31c327a7-33d5-474c-bd27-9539d8b9b854",
   "metadata": {},
   "outputs": [
    {
     "name": "stdout",
     "output_type": "stream",
     "text": [
      "  Student_ID                 Concept  \\\n",
      "0      S1000        Endowment Effect   \n",
      "1      S1001        Endowment Effect   \n",
      "2      S1002          Anchoring Bias   \n",
      "3      S1003  Hyperbolic Discounting   \n",
      "4      S1004  Hyperbolic Discounting   \n",
      "\n",
      "                                    Student_Response Faculty_Grade  \n",
      "0     People fear losses more than they value gains.            B+  \n",
      "1       Choice architecture can influence decisions.             A  \n",
      "2  Past investments affect future decisions irrat...             B  \n",
      "3          Risk perception changes based on framing.            C+  \n",
      "4       Choice architecture can influence decisions.            C+  \n"
     ]
    }
   ],
   "source": [
    "import pandas as pd\n",
    "\n",
    "# Load the dataset\n",
    "df = pd.read_csv(\"behavioral_economics_dataset.csv\")\n",
    "\n",
    "# Check dataset structure\n",
    "print(df.head())"
   ]
  },
  {
   "cell_type": "code",
   "execution_count": 2,
   "id": "6b5e9024-fcbb-4e29-a857-54605f438bb1",
   "metadata": {},
   "outputs": [],
   "source": [
    "# Rename columns if needed (ensure they match expected format)\n",
    "df = df.rename(columns={\"Student_Response\": \"text\", \"Faculty_Grade\": \"label\"})\n",
    "\n",
    "# Check for missing values\n",
    "df = df.dropna()\n"
   ]
  },
  {
   "cell_type": "code",
   "execution_count": 3,
   "id": "7c554e09-efc0-4df4-af10-a2b59ca2282a",
   "metadata": {},
   "outputs": [
    {
     "name": "stdout",
     "output_type": "stream",
     "text": [
      "  Student_ID                 Concept  \\\n",
      "0      S1000        Endowment Effect   \n",
      "1      S1001        Endowment Effect   \n",
      "2      S1002          Anchoring Bias   \n",
      "3      S1003  Hyperbolic Discounting   \n",
      "4      S1004  Hyperbolic Discounting   \n",
      "\n",
      "                                                text  label  \n",
      "0     People fear losses more than they value gains.      7  \n",
      "1       Choice architecture can influence decisions.      9  \n",
      "2  Past investments affect future decisions irrat...      6  \n",
      "3          Risk perception changes based on framing.      4  \n",
      "4       Choice architecture can influence decisions.      4  \n"
     ]
    }
   ],
   "source": [
    "# Convert Grades to Numeric Labels for Classification\n",
    "grade_mapping = {'A+': 10, 'A': 9, 'A-': 8, 'B+': 7, 'B': 6, 'B-': 5, 'C+': 4, 'C': 3, 'C-': 2, 'D': 1, 'F': 0}\n",
    "df['label'] = df['label'].map(grade_mapping)\n",
    "\n",
    "print(df.head()) "
   ]
  },
  {
   "cell_type": "code",
   "execution_count": 4,
   "id": "51791a3f-4624-4077-84a4-c050bce90051",
   "metadata": {},
   "outputs": [
    {
     "name": "stderr",
     "output_type": "stream",
     "text": [
      "/home/ashok/langchain/lib/python3.10/site-packages/tqdm/auto.py:21: TqdmWarning: IProgress not found. Please update jupyter and ipywidgets. See https://ipywidgets.readthedocs.io/en/stable/user_install.html\n",
      "  from .autonotebook import tqdm as notebook_tqdm\n"
     ]
    }
   ],
   "source": [
    "from transformers import AutoTokenizer\n",
    "\n",
    "# Choose a Pretrained Model (e.g., DistilBERT)\n",
    "model_name = \"distilbert-base-uncased\"\n",
    "tokenizer = AutoTokenizer.from_pretrained(model_name)\n"
   ]
  },
  {
   "cell_type": "code",
   "execution_count": 5,
   "id": "505bde6b-d98e-4126-8edf-61879761a708",
   "metadata": {},
   "outputs": [],
   "source": [
    "# Tokenizing Function\n",
    "def tokenize_function(examples):\n",
    "    return tokenizer(examples[\"text\"], padding=\"max_length\", truncation=True)\n"
   ]
  },
  {
   "cell_type": "code",
   "execution_count": 6,
   "id": "ae951fc5-0562-4838-a340-36797e327027",
   "metadata": {},
   "outputs": [],
   "source": [
    "from datasets import Dataset\n",
    "\n",
    "# Convert DataFrame to Hugging Face Dataset\n",
    "dataset = Dataset.from_pandas(df)"
   ]
  },
  {
   "cell_type": "code",
   "execution_count": 7,
   "id": "661a4b05-b45a-4fee-a77d-484e1930bfe3",
   "metadata": {},
   "outputs": [
    {
     "name": "stderr",
     "output_type": "stream",
     "text": [
      "Map: 100%|███████████████████████████| 100/100 [00:00<00:00, 4606.14 examples/s]\n"
     ]
    }
   ],
   "source": [
    "# Tokenize Data\n",
    "tokenized_datasets = dataset.map(tokenize_function, batched=True)\n"
   ]
  },
  {
   "cell_type": "code",
   "execution_count": 8,
   "id": "84fdf43e-1d4d-4750-9830-5e9043a09724",
   "metadata": {},
   "outputs": [],
   "source": [
    "# Split into Train-Test\n",
    "train_test_split = tokenized_datasets.train_test_split(test_size=0.2)\n",
    "train_dataset = train_test_split[\"train\"]\n",
    "test_dataset = train_test_split[\"test\"]"
   ]
  },
  {
   "cell_type": "code",
   "execution_count": 9,
   "id": "6aa30840-16ae-4d46-bd1f-e063da5b934e",
   "metadata": {},
   "outputs": [],
   "source": [
    "from transformers import AutoModelForSequenceClassification, TrainingArguments, Trainer\n",
    "import torch\n"
   ]
  },
  {
   "cell_type": "code",
   "execution_count": 10,
   "id": "ed59cbc4-bfff-4565-b75d-675b93abb6f8",
   "metadata": {},
   "outputs": [
    {
     "name": "stderr",
     "output_type": "stream",
     "text": [
      "Some weights of DistilBertForSequenceClassification were not initialized from the model checkpoint at distilbert-base-uncased and are newly initialized: ['classifier.bias', 'classifier.weight', 'pre_classifier.bias', 'pre_classifier.weight']\n",
      "You should probably TRAIN this model on a down-stream task to be able to use it for predictions and inference.\n"
     ]
    }
   ],
   "source": [
    "# Load Pretrained Model for Classification\n",
    "num_labels = len(grade_mapping)  # Number of grading categories\n",
    "model = AutoModelForSequenceClassification.from_pretrained(model_name, num_labels=num_labels)\n"
   ]
  },
  {
   "cell_type": "code",
   "execution_count": 21,
   "id": "1b3a54bf-fc69-4278-b3fb-10a0a85eea26",
   "metadata": {},
   "outputs": [],
   "source": [
    "import torch\n",
    "torch.cuda.empty_cache()"
   ]
  },
  {
   "cell_type": "code",
   "execution_count": 11,
   "id": "7ace9260-9f3a-4316-8cfb-c58cd91290f4",
   "metadata": {},
   "outputs": [],
   "source": [
    "# Define Training Arguments (Use eval_strategy instead of evaluation_strategy)\n",
    "training_args = TrainingArguments(\n",
    "    output_dir=\"./results\",\n",
    "    eval_strategy=\"epoch\",   # <- Fixed the deprecated warning\n",
    "    save_strategy=\"epoch\",\n",
    "    learning_rate=2e-5,\n",
    "    per_device_train_batch_size=4,\n",
    "    per_device_eval_batch_size=4,\n",
    "    num_train_epochs=3,\n",
    "    fp16=True,\n",
    "    gradient_accumulation_steps=4,\n",
    "    weight_decay=0.01,\n",
    ")"
   ]
  },
  {
   "cell_type": "code",
   "execution_count": 12,
   "id": "43f1ef8e-acd6-4c2d-bbc7-1d5994801b2e",
   "metadata": {},
   "outputs": [
    {
     "name": "stderr",
     "output_type": "stream",
     "text": [
      "/tmp/ipykernel_5407/2894724606.py:2: FutureWarning: `tokenizer` is deprecated and will be removed in version 5.0.0 for `Trainer.__init__`. Use `processing_class` instead.\n",
      "  trainer = Trainer(\n"
     ]
    }
   ],
   "source": [
    "# Define Trainer\n",
    "trainer = Trainer(\n",
    "    model=model,\n",
    "    args=training_args,\n",
    "    train_dataset=train_dataset,\n",
    "    eval_dataset=test_dataset,\n",
    "    tokenizer=tokenizer\n",
    ")"
   ]
  },
  {
   "cell_type": "code",
   "execution_count": 13,
   "id": "55db642a-0599-47ae-9e16-c8f86d0e2c59",
   "metadata": {},
   "outputs": [
    {
     "data": {
      "text/html": [
       "\n",
       "    <div>\n",
       "      \n",
       "      <progress value='15' max='15' style='width:300px; height:20px; vertical-align: middle;'></progress>\n",
       "      [15/15 01:45, Epoch 3/3]\n",
       "    </div>\n",
       "    <table border=\"1\" class=\"dataframe\">\n",
       "  <thead>\n",
       " <tr style=\"text-align: left;\">\n",
       "      <th>Epoch</th>\n",
       "      <th>Training Loss</th>\n",
       "      <th>Validation Loss</th>\n",
       "    </tr>\n",
       "  </thead>\n",
       "  <tbody>\n",
       "    <tr>\n",
       "      <td>1</td>\n",
       "      <td>No log</td>\n",
       "      <td>2.432422</td>\n",
       "    </tr>\n",
       "    <tr>\n",
       "      <td>2</td>\n",
       "      <td>No log</td>\n",
       "      <td>2.415137</td>\n",
       "    </tr>\n",
       "    <tr>\n",
       "      <td>3</td>\n",
       "      <td>No log</td>\n",
       "      <td>2.409082</td>\n",
       "    </tr>\n",
       "  </tbody>\n",
       "</table><p>"
      ],
      "text/plain": [
       "<IPython.core.display.HTML object>"
      ]
     },
     "metadata": {},
     "output_type": "display_data"
    },
    {
     "data": {
      "text/plain": [
       "TrainOutput(global_step=15, training_loss=2.394148763020833, metrics={'train_runtime': 112.6717, 'train_samples_per_second': 2.13, 'train_steps_per_second': 0.133, 'total_flos': 31797278392320.0, 'train_loss': 2.394148763020833, 'epoch': 3.0})"
      ]
     },
     "execution_count": 13,
     "metadata": {},
     "output_type": "execute_result"
    }
   ],
   "source": [
    "# Train Model\n",
    "trainer.train()"
   ]
  },
  {
   "cell_type": "code",
   "execution_count": 14,
   "id": "63b3dab7-bd93-423e-8f1c-54ad9eac9c09",
   "metadata": {},
   "outputs": [
    {
     "name": "stderr",
     "output_type": "stream",
     "text": [
      "huggingface/tokenizers: The current process just got forked, after parallelism has already been used. Disabling parallelism to avoid deadlocks...\n",
      "To disable this warning, you can either:\n",
      "\t- Avoid using `tokenizers` before the fork if possible\n",
      "\t- Explicitly set the environment variable TOKENIZERS_PARALLELISM=(true | false)\n"
     ]
    },
    {
     "name": "stdout",
     "output_type": "stream",
     "text": [
      "Requirement already satisfied: numpy in ./langchain/lib/python3.10/site-packages (2.2.4)\n"
     ]
    }
   ],
   "source": [
    "!pip install numpy\n",
    "\n",
    "import numpy as np\n",
    "from sklearn.metrics import accuracy_score, classification_report"
   ]
  },
  {
   "cell_type": "code",
   "execution_count": 16,
   "id": "1342c8a8-ba9c-4f4d-bc20-39a9b29143db",
   "metadata": {},
   "outputs": [],
   "source": [
    "# Function to Compute Metrics\n",
    "def compute_metrics(eval_pred):\n",
    "    logits, labels = eval_pred\n",
    "    predictions = np.argmax(logits, axis=-1)\n",
    "    return {\"accuracy\": accuracy_score(labels, predictions)}\n"
   ]
  },
  {
   "cell_type": "code",
   "execution_count": 17,
   "id": "1f432679-0780-47e6-b097-ef4e1810db97",
   "metadata": {},
   "outputs": [
    {
     "data": {
      "text/html": [
       "\n",
       "    <div>\n",
       "      \n",
       "      <progress value='5' max='5' style='width:300px; height:20px; vertical-align: middle;'></progress>\n",
       "      [5/5 00:02]\n",
       "    </div>\n",
       "    "
      ],
      "text/plain": [
       "<IPython.core.display.HTML object>"
      ]
     },
     "metadata": {},
     "output_type": "display_data"
    },
    {
     "data": {
      "text/plain": [
       "('./grading_model/tokenizer_config.json',\n",
       " './grading_model/special_tokens_map.json',\n",
       " './grading_model/vocab.txt',\n",
       " './grading_model/added_tokens.json',\n",
       " './grading_model/tokenizer.json')"
      ]
     },
     "execution_count": 17,
     "metadata": {},
     "output_type": "execute_result"
    }
   ],
   "source": [
    "# Evaluate Model\n",
    "trainer.evaluate()\n",
    "\n",
    "model.save_pretrained(\"grading_model\")\n",
    "tokenizer.save_pretrained(\"grading_model\")\n",
    "\n",
    "model.save_pretrained(\"./grading_model\")\n",
    "tokenizer.save_pretrained(\"./grading_model\")\n"
   ]
  },
  {
   "cell_type": "code",
   "execution_count": 18,
   "id": "ba48ea97-b1ec-487c-b69a-4523c08de787",
   "metadata": {},
   "outputs": [],
   "source": [
    "from transformers import AutoModelForSequenceClassification, AutoTokenizer\n",
    "import torch\n",
    "\n",
    "# Load trained model and tokenizer\n",
    "model_path = \"./grading_model\"  # Use \"your-hf-username/grading_model\" if using Hugging Face Hub\n",
    "tokenizer = AutoTokenizer.from_pretrained(model_path)\n",
    "model = AutoModelForSequenceClassification.from_pretrained(model_path)\n"
   ]
  },
  {
   "cell_type": "code",
   "execution_count": 22,
   "id": "ae94b3d6-da85-44b8-9dd0-fc6fbad0b362",
   "metadata": {},
   "outputs": [
    {
     "name": "stdout",
     "output_type": "stream",
     "text": [
      "Predicted Grade: A+\n"
     ]
    }
   ],
   "source": [
    "from transformers import AutoModelForSequenceClassification, AutoTokenizer\n",
    "import torch\n",
    "\n",
    "# Correct grade_mapping used during training\n",
    "train_grade_mapping = {\n",
    "    'A+': 10, 'A': 9, 'A-': 8, 'B+': 7, 'B': 6, 'B-': 5, \n",
    "    'C+': 4, 'C': 3, 'C-': 2, 'D': 1, 'F': 0\n",
    "}\n",
    "\n",
    "# Modify grade mapping for prediction\n",
    "grade_mapping_for_prediction = {\n",
    "    10: \"A+\", 9: \"A\", 8: \"A-\", 7: \"B+\", 6: \"B\", 5: \"B-\", \n",
    "    4: \"C+\", 3: \"C\", 2: \"C-\", 1: \"D\", 0: \"F\"\n",
    "}\n",
    "\n",
    "# Function to predict grade\n",
    "def predict_grade(student_response):\n",
    "    inputs = tokenizer(student_response, return_tensors=\"pt\", truncation=True, padding=True)\n",
    "    with torch.no_grad():\n",
    "        outputs = model(**inputs)\n",
    "    \n",
    "    predicted_class = torch.argmax(outputs.logits, dim=1).item()\n",
    "    \n",
    "    # Ensure the predicted class is within the valid grade range\n",
    "    if predicted_class in grade_mapping_for_prediction:\n",
    "        return grade_mapping_for_prediction[predicted_class]\n",
    "    else:\n",
    "        # Handle cases where the predicted class is out of bounds (for safety)\n",
    "        return \"Unknown Grade\"\n",
    "\n",
    "# Example: Predicting grade for a student answer\n",
    "student_response = \"The Industrial Revolution was a period of major industrialization...\"\n",
    "predicted_grade = predict_grade(student_response)\n",
    "print(f\"Predicted Grade: {predicted_grade}\")\n"
   ]
  },
  {
   "cell_type": "code",
   "execution_count": null,
   "id": "13a781df-998e-49a0-9fbd-3ae019297bb3",
   "metadata": {},
   "outputs": [],
   "source": []
  }
 ],
 "metadata": {
  "kernelspec": {
   "display_name": "Python 3 (ipykernel)",
   "language": "python",
   "name": "python3"
  },
  "language_info": {
   "codemirror_mode": {
    "name": "ipython",
    "version": 3
   },
   "file_extension": ".py",
   "mimetype": "text/x-python",
   "name": "python",
   "nbconvert_exporter": "python",
   "pygments_lexer": "ipython3",
   "version": "3.10.12"
  }
 },
 "nbformat": 4,
 "nbformat_minor": 5
}
